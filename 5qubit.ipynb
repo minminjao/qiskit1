{
 "cells": [
  {
   "cell_type": "code",
   "execution_count": 1,
   "id": "5a83493d-1c24-4ea9-9051-d6e1b3cd369c",
   "metadata": {},
   "outputs": [
    {
     "name": "stderr",
     "output_type": "stream",
     "text": [
      "<frozen importlib._bootstrap>:219: RuntimeWarning: scipy._lib.messagestream.MessageStream size changed, may indicate binary incompatibility. Expected 56 from C header, got 64 from PyObject\n"
     ]
    }
   ],
   "source": [
    "import numpy as np\n",
    "\n",
    "# Importing standard Qiskit libraries\n",
    "from qiskit import QuantumCircuit, transpile, Aer, IBMQ\n",
    "from qiskit.tools.jupyter import *\n",
    "from qiskit.visualization import *\n",
    "from ibm_quantum_widgets import *\n",
    "from qiskit.providers.aer import QasmSimulator\n",
    "\n",
    "# Loading your IBM Quantum account(s)\n",
    "provider = IBMQ.load_account()"
   ]
  },
  {
   "cell_type": "code",
   "execution_count": 2,
   "id": "fe6dc888-d5e5-49ac-8750-d580acb13625",
   "metadata": {},
   "outputs": [
    {
     "data": {
      "text/plain": [
       "<qiskit.circuit.instructionset.InstructionSet at 0x7f512338e0c0>"
      ]
     },
     "execution_count": 2,
     "metadata": {},
     "output_type": "execute_result"
    }
   ],
   "source": [
    "circ=QuantumCircuit(5,5)\n",
    "circ.h(0)\n",
    "circ.cx(0,1)\n",
    "circ.cx(1,2)\n",
    "circ.cx(2,3)\n",
    "circ.cx(3,4)\n",
    "circ.barrier(range(5))\n",
    "circ.measure(range(5),range(5))"
   ]
  },
  {
   "cell_type": "code",
   "execution_count": 3,
   "id": "978fd2f7-6e97-4214-be17-05098c67fe8f",
   "metadata": {},
   "outputs": [
    {
     "data": {
      "image/png": "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\n",
      "text/plain": [
       "<Figure size 748.797x385.28 with 1 Axes>"
      ]
     },
     "execution_count": 3,
     "metadata": {},
     "output_type": "execute_result"
    }
   ],
   "source": [
    "circ.draw('mpl')"
   ]
  },
  {
   "cell_type": "code",
   "execution_count": null,
   "id": "3fcd6e64-41e7-4436-83fa-bb5d739375fb",
   "metadata": {},
   "outputs": [],
   "source": []
  }
 ],
 "metadata": {
  "kernelspec": {
   "display_name": "Python 3 (ipykernel)",
   "language": "python",
   "name": "python3"
  },
  "language_info": {
   "codemirror_mode": {
    "name": "ipython",
    "version": 3
   },
   "file_extension": ".py",
   "mimetype": "text/x-python",
   "name": "python",
   "nbconvert_exporter": "python",
   "pygments_lexer": "ipython3",
   "version": "3.8.13"
  },
  "widgets": {
   "application/vnd.jupyter.widget-state+json": {
    "state": {
     "048703fc8ba44b0199322ebc7f2f951a": {
      "model_module": "@jupyter-widgets/base",
      "model_module_version": "1.2.0",
      "model_name": "LayoutModel",
      "state": {
       "grid_template_areas": "\n                                       \". . . . right \"\n                                        ",
       "grid_template_columns": "20% 20% 20% 20% 20%",
       "width": "100%"
      }
     },
     "2775aa368753473b856092c222cd5851": {
      "model_module": "@jupyter-widgets/base",
      "model_module_version": "1.2.0",
      "model_name": "LayoutModel",
      "state": {
       "width": "95px"
      }
     },
     "34d108773f6047e284d3ab04fb5cd32c": {
      "model_module": "@jupyter-widgets/controls",
      "model_module_version": "1.5.0",
      "model_name": "HTMLModel",
      "state": {
       "layout": "IPY_MODEL_52c74e54e3b344a4ba69d3eae3d0495c",
       "style": "IPY_MODEL_a7672641f13e43398fd4230325b62b2c",
       "value": "<h5>Message</h5>"
      }
     },
     "3b9ba524122d4952924f8957702638f7": {
      "model_module": "@jupyter-widgets/controls",
      "model_module_version": "1.5.0",
      "model_name": "DescriptionStyleModel",
      "state": {
       "description_width": ""
      }
     },
     "3d423f8bb0764caaa9631bd8a02c5c1f": {
      "model_module": "@jupyter-widgets/controls",
      "model_module_version": "1.5.0",
      "model_name": "DescriptionStyleModel",
      "state": {
       "description_width": ""
      }
     },
     "3d9702a819ee4aa5be87f59ad51a58da": {
      "model_module": "@jupyter-widgets/controls",
      "model_module_version": "1.5.0",
      "model_name": "ButtonStyleModel",
      "state": {}
     },
     "521c53b616ba4e218c619d4941b60415": {
      "model_module": "@jupyter-widgets/base",
      "model_module_version": "1.2.0",
      "model_name": "LayoutModel",
      "state": {
       "grid_area": "right",
       "padding": "0px 0px 0px 0px",
       "width": "70px"
      }
     },
     "52c74e54e3b344a4ba69d3eae3d0495c": {
      "model_module": "@jupyter-widgets/base",
      "model_module_version": "1.2.0",
      "model_name": "LayoutModel",
      "state": {}
     },
     "5494d586c6214707b76053098342e9af": {
      "model_module": "@jupyter-widgets/controls",
      "model_module_version": "1.5.0",
      "model_name": "DescriptionStyleModel",
      "state": {
       "description_width": ""
      }
     },
     "57d706bcf8504e0d94459234bbacd79d": {
      "model_module": "@jupyter-widgets/base",
      "model_module_version": "1.2.0",
      "model_name": "LayoutModel",
      "state": {
       "width": "190px"
      }
     },
     "582d8532807a416f9cbeeb229003af1f": {
      "model_module": "@jupyter-widgets/controls",
      "model_module_version": "1.5.0",
      "model_name": "HTMLModel",
      "state": {
       "layout": "IPY_MODEL_2775aa368753473b856092c222cd5851",
       "style": "IPY_MODEL_3b9ba524122d4952924f8957702638f7",
       "value": "<h5>Status</h5>"
      }
     },
     "5db56b7ac86e407b93fbc3e0965e06a3": {
      "model_module": "@jupyter-widgets/controls",
      "model_module_version": "1.5.0",
      "model_name": "DescriptionStyleModel",
      "state": {
       "description_width": ""
      }
     },
     "5dc2b08cc4514353a04a36f484a6836d": {
      "model_module": "@jupyter-widgets/controls",
      "model_module_version": "1.5.0",
      "model_name": "HTMLModel",
      "state": {
       "layout": "IPY_MODEL_69135815849e43ba848cc8f579a6c0c4",
       "style": "IPY_MODEL_9f4897feb25f44a086a7219636b11e9d",
       "value": "<p style='font-family: IBM Plex Sans, Arial, Helvetica, sans-serif; font-size: 20px; font-weight: medium;'>Circuit Properties</p>"
      }
     },
     "6841cd6a98604e129a347cecfa5cfc98": {
      "model_module": "@jupyter-widgets/base",
      "model_module_version": "1.2.0",
      "model_name": "LayoutModel",
      "state": {
       "width": "70px"
      }
     },
     "69135815849e43ba848cc8f579a6c0c4": {
      "model_module": "@jupyter-widgets/base",
      "model_module_version": "1.2.0",
      "model_name": "LayoutModel",
      "state": {
       "margin": "0px 0px 10px 0px"
      }
     },
     "70c924de7ee64185856728bf8d346871": {
      "model_module": "@jupyter-widgets/controls",
      "model_module_version": "1.5.0",
      "model_name": "HTMLModel",
      "state": {
       "layout": "IPY_MODEL_57d706bcf8504e0d94459234bbacd79d",
       "style": "IPY_MODEL_5494d586c6214707b76053098342e9af",
       "value": "<h5>Job ID</h5>"
      }
     },
     "9ce47850e9b747168315d16a57bca4cb": {
      "model_module": "@jupyter-widgets/base",
      "model_module_version": "1.2.0",
      "model_name": "LayoutModel",
      "state": {
       "width": "145px"
      }
     },
     "9dd5f79c5e894113be0030c4909e410c": {
      "model_module": "@jupyter-widgets/base",
      "model_module_version": "1.2.0",
      "model_name": "LayoutModel",
      "state": {
       "margin": "0px 0px 0px 37px",
       "width": "600px"
      }
     },
     "9f4897feb25f44a086a7219636b11e9d": {
      "model_module": "@jupyter-widgets/controls",
      "model_module_version": "1.5.0",
      "model_name": "DescriptionStyleModel",
      "state": {
       "description_width": ""
      }
     },
     "a70cd75fe4794ddfad832243649fc1e6": {
      "model_module": "@jupyter-widgets/controls",
      "model_module_version": "1.5.0",
      "model_name": "GridBoxModel",
      "state": {
       "children": [
        "IPY_MODEL_cd797b50e03b40b3b2152b4936df72c9"
       ],
       "layout": "IPY_MODEL_048703fc8ba44b0199322ebc7f2f951a"
      }
     },
     "a7672641f13e43398fd4230325b62b2c": {
      "model_module": "@jupyter-widgets/controls",
      "model_module_version": "1.5.0",
      "model_name": "DescriptionStyleModel",
      "state": {
       "description_width": ""
      }
     },
     "cd797b50e03b40b3b2152b4936df72c9": {
      "model_module": "@jupyter-widgets/controls",
      "model_module_version": "1.5.0",
      "model_name": "ButtonModel",
      "state": {
       "button_style": "primary",
       "description": "Clear",
       "layout": "IPY_MODEL_521c53b616ba4e218c619d4941b60415",
       "style": "IPY_MODEL_3d9702a819ee4aa5be87f59ad51a58da"
      }
     },
     "e83b14f05f1a41bfb945f8bc9f723252": {
      "model_module": "@jupyter-widgets/controls",
      "model_module_version": "1.5.0",
      "model_name": "HTMLModel",
      "state": {
       "layout": "IPY_MODEL_6841cd6a98604e129a347cecfa5cfc98",
       "style": "IPY_MODEL_5db56b7ac86e407b93fbc3e0965e06a3",
       "value": "<h5>Queue</h5>"
      }
     },
     "fa1164719fed4c6894ee30f4f2b30cc3": {
      "model_module": "@jupyter-widgets/controls",
      "model_module_version": "1.5.0",
      "model_name": "HTMLModel",
      "state": {
       "layout": "IPY_MODEL_9ce47850e9b747168315d16a57bca4cb",
       "style": "IPY_MODEL_3d423f8bb0764caaa9631bd8a02c5c1f",
       "value": "<h5>Backend</h5>"
      }
     },
     "fa882877c60f4da9b332d57a73390f39": {
      "model_module": "@jupyter-widgets/controls",
      "model_module_version": "1.5.0",
      "model_name": "HBoxModel",
      "state": {
       "children": [
        "IPY_MODEL_70c924de7ee64185856728bf8d346871",
        "IPY_MODEL_fa1164719fed4c6894ee30f4f2b30cc3",
        "IPY_MODEL_582d8532807a416f9cbeeb229003af1f",
        "IPY_MODEL_e83b14f05f1a41bfb945f8bc9f723252",
        "IPY_MODEL_34d108773f6047e284d3ab04fb5cd32c"
       ],
       "layout": "IPY_MODEL_9dd5f79c5e894113be0030c4909e410c"
      }
     }
    },
    "version_major": 2,
    "version_minor": 0
   }
  }
 },
 "nbformat": 4,
 "nbformat_minor": 5
}

<img width="100%" src="https://user-images.githubusercontent.com/108252034/178983272-a64b1897-e5e7-4cf5-88b7-2d18853153b9.JPG" />
