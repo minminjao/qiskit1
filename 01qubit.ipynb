{
 "cells": [
  {
   "cell_type": "code",
   "execution_count": 3,
   "id": "223c55a6-5daf-4746-a988-baaffa517495",
   "metadata": {},
   "outputs": [
    {
     "name": "stderr",
     "output_type": "stream",
     "text": [
      "ibmqfactory.load_account:WARNING:2022-08-09 11:23:24,818: Credentials are already in use. The existing account in the session will be replaced.\n"
     ]
    }
   ],
   "source": [
    "import numpy as np\n",
    "\n",
    "# Importing standard Qiskit libraries\n",
    "from qiskit import QuantumCircuit, transpile, Aer, IBMQ\n",
    "from qiskit.tools.jupyter import *\n",
    "from qiskit.visualization import *\n",
    "from ibm_quantum_widgets import *\n",
    "from qiskit.providers.aer import QasmSimulator\n",
    "\n",
    "# Loading your IBM Quantum account(s)\n",
    "provider = IBMQ.load_account()"
   ]
  },
  {
   "cell_type": "code",
   "execution_count": 5,
   "id": "29dca8e7-e88c-4ed5-9ed1-49b2f915193f",
   "metadata": {},
   "outputs": [
    {
     "data": {
      "image/png": "[encoded data removed]",
      "text/plain": [
       "<Figure size 507.852x204.68 with 1 Axes>"
      ]
     },
     "execution_count": 5,
     "metadata": {},
     "output_type": "execute_result"
    }
   ],
   "source": [
    "circ=QuantumCircuit(2,2)\n",
    "circ.h(0)\n",
    "circ.cx(0,1)\n",
    "circ.x(0)\n",
    "circ.barrier(range(2))\n",
    "circ.cx(0,1)\n",
    "circ.h(0)\n",
    "circ.measure(range(2),range(2))\n",
    "circ.draw()"
   ]
  },
  {
   "cell_type": "code",
   "execution_count": 11,
   "id": "6818aa7e-1839-43fd-bd72-fd2351f4216b",
   "metadata": {},
   "outputs": [
    {
     "name": "stdout",
     "output_type": "stream",
     "text": [
      "{'10': 1024}\n"
     ]
    }
   ],
   "source": [
    "backend_sim=Aer.get_backend('qasm_simulator')\n",
    "ch_sim=backend_sim.run(transpile(circ, backend_sim), shots=1024)\n",
    "result_sim=ch_sim.result()\n",
    "counts=result_sim.get_counts(circ)\n",
    "print(counts)                    "
   ]
  },
  {
   "cell_type": "code",
   "execution_count": null,
   "id": "0c386795-7d8a-4103-9fe0-1fc43bc65cc0",
   "metadata": {},
   "outputs": [],
   "source": []
  }
 ],
 "metadata": {
  "kernelspec": {
   "display_name": "Python 3 (ipykernel)",
   "language": "python",
   "name": "python3"
  },
  "language_info": {
   "codemirror_mode": {
    "name": "ipython",
    "version": 3
   },
   "file_extension": ".py",
   "mimetype": "text/x-python",
   "name": "python",
   "nbconvert_exporter": "python",
   "pygments_lexer": "ipython3",
   "version": "3.8.13"
  },
  "widgets": {
   "application/vnd.jupyter.widget-state+json": {
    "state": {
     "012d781e9c694d0683d3ec0b9560c852": {
      "model_module": "@jupyter-widgets/controls",
      "model_module_version": "1.5.0",
      "model_name": "HTMLModel",
      "state": {
       "layout": "IPY_MODEL_59adbf5f71d8480e9c2b3f98215a824d",
       "style": "IPY_MODEL_716812e3bc044378b69cbb4bdf2ca5d0",
       "value": "<h5>Message</h5>"
      }
     },
     "0cda8477d7934c21ab21a7b192fe9f18": {
      "model_module": "@jupyter-widgets/base",
      "model_module_version": "1.2.0",
      "model_name": "LayoutModel",
      "state": {
       "width": "145px"
      }
     },
     "14f922b6303b4a94982f2165ca626dc8": {
      "model_module": "@jupyter-widgets/controls",
      "model_module_version": "1.5.0",
      "model_name": "HTMLModel",
      "state": {
       "layout": "IPY_MODEL_bf193e61b24545c4a8c1a3d8a306bc61",
       "style": "IPY_MODEL_b97c7ccde92e4af6916ecac6b274ebee",
       "value": "<h5>Status</h5>"
      }
     },
     "31d0ddf6d17e4782bfd03306b90cb01c": {
      "model_module": "@jupyter-widgets/controls",
      "model_module_version": "1.5.0",
      "model_name": "GridBoxModel",
      "state": {
       "children": [
        "IPY_MODEL_e18f027d0ac840f68fbbcbba643e4f55"
       ],
       "layout": "IPY_MODEL_aa1632d8a3e047cc962b12e82a6cecb4"
      }
     },
     "341cbd63dec5414bb841f706b81d7791": {
      "model_module": "@jupyter-widgets/controls",
      "model_module_version": "1.5.0",
      "model_name": "ButtonStyleModel",
      "state": {}
     },
     "3ac43c65bca248dca0246c41192add21": {
      "model_module": "@jupyter-widgets/controls",
      "model_module_version": "1.5.0",
      "model_name": "DescriptionStyleModel",
      "state": {
       "description_width": ""
      }
     },
     "59adbf5f71d8480e9c2b3f98215a824d": {
      "model_module": "@jupyter-widgets/base",
      "model_module_version": "1.2.0",
      "model_name": "LayoutModel",
      "state": {}
     },
     "5afb506cb02a4b788ac7e823add3dd3a": {
      "model_module": "@jupyter-widgets/base",
      "model_module_version": "1.2.0",
      "model_name": "LayoutModel",
      "state": {
       "width": "190px"
      }
     },
     "6d65b725bc2a4d439aeb14ef4b3c2fb8": {
      "model_module": "@jupyter-widgets/base",
      "model_module_version": "1.2.0",
      "model_name": "LayoutModel",
      "state": {
       "margin": "0px 0px 0px 37px",
       "width": "600px"
      }
     },
     "6d8dd3dd14ae4871af61d8bbf61fbd40": {
      "model_module": "@jupyter-widgets/base",
      "model_module_version": "1.2.0",
      "model_name": "LayoutModel",
      "state": {
       "grid_area": "right",
       "padding": "0px 0px 0px 0px",
       "width": "70px"
      }
     },
     "716812e3bc044378b69cbb4bdf2ca5d0": {
      "model_module": "@jupyter-widgets/controls",
      "model_module_version": "1.5.0",
      "model_name": "DescriptionStyleModel",
      "state": {
       "description_width": ""
      }
     },
     "747616494e934335bd79206d0bb89de3": {
      "model_module": "@jupyter-widgets/base",
      "model_module_version": "1.2.0",
      "model_name": "LayoutModel",
      "state": {
       "width": "70px"
      }
     },
     "79ec37c79ffb41aa8dd32fa25ef9ebf9": {
      "model_module": "@jupyter-widgets/controls",
      "model_module_version": "1.5.0",
      "model_name": "DescriptionStyleModel",
      "state": {
       "description_width": ""
      }
     },
     "8a003cfac43749339b0ff32cad7b10ea": {
      "model_module": "@jupyter-widgets/controls",
      "model_module_version": "1.5.0",
      "model_name": "DescriptionStyleModel",
      "state": {
       "description_width": ""
      }
     },
     "8dc02fe89fe641549e1335689e5c052e": {
      "model_module": "@jupyter-widgets/controls",
      "model_module_version": "1.5.0",
      "model_name": "DescriptionStyleModel",
      "state": {
       "description_width": ""
      }
     },
     "8f88a22fe6fa4cdd91bf18751f2ff534": {
      "model_module": "@jupyter-widgets/base",
      "model_module_version": "1.2.0",
      "model_name": "LayoutModel",
      "state": {
       "margin": "0px 0px 10px 0px"
      }
     },
     "aa1632d8a3e047cc962b12e82a6cecb4": {
      "model_module": "@jupyter-widgets/base",
      "model_module_version": "1.2.0",
      "model_name": "LayoutModel",
      "state": {
       "grid_template_areas": "\n                                       \". . . . right \"\n                                        ",
       "grid_template_columns": "20% 20% 20% 20% 20%",
       "width": "100%"
      }
     },
     "b97c7ccde92e4af6916ecac6b274ebee": {
      "model_module": "@jupyter-widgets/controls",
      "model_module_version": "1.5.0",
      "model_name": "DescriptionStyleModel",
      "state": {
       "description_width": ""
      }
     },
     "bf193e61b24545c4a8c1a3d8a306bc61": {
      "model_module": "@jupyter-widgets/base",
      "model_module_version": "1.2.0",
      "model_name": "LayoutModel",
      "state": {
       "width": "95px"
      }
     },
     "c412a706822041d09dccb192d1214d07": {
      "model_module": "@jupyter-widgets/controls",
      "model_module_version": "1.5.0",
      "model_name": "HTMLModel",
      "state": {
       "layout": "IPY_MODEL_8f88a22fe6fa4cdd91bf18751f2ff534",
       "style": "IPY_MODEL_8a003cfac43749339b0ff32cad7b10ea",
       "value": "<p style='font-family: IBM Plex Sans, Arial, Helvetica, sans-serif; font-size: 20px; font-weight: medium;'>Circuit Properties</p>"
      }
     },
     "c94182d0af844711b6a6b109b9fa50f5": {
      "model_module": "@jupyter-widgets/controls",
      "model_module_version": "1.5.0",
      "model_name": "HBoxModel",
      "state": {
       "children": [
        "IPY_MODEL_e292ef1c8a5f4a31be2f669f9cd8545e",
        "IPY_MODEL_ffeceef81c194acb8414de1567b5342d",
        "IPY_MODEL_14f922b6303b4a94982f2165ca626dc8",
        "IPY_MODEL_ff1016b3c9fe4ae5a35248941d76f928",
        "IPY_MODEL_012d781e9c694d0683d3ec0b9560c852"
       ],
       "layout": "IPY_MODEL_6d65b725bc2a4d439aeb14ef4b3c2fb8"
      }
     },
     "e18f027d0ac840f68fbbcbba643e4f55": {
      "model_module": "@jupyter-widgets/controls",
      "model_module_version": "1.5.0",
      "model_name": "ButtonModel",
      "state": {
       "button_style": "primary",
       "description": "Clear",
       "layout": "IPY_MODEL_6d8dd3dd14ae4871af61d8bbf61fbd40",
       "style": "IPY_MODEL_341cbd63dec5414bb841f706b81d7791"
      }
     },
     "e292ef1c8a5f4a31be2f669f9cd8545e": {
      "model_module": "@jupyter-widgets/controls",
      "model_module_version": "1.5.0",
      "model_name": "HTMLModel",
      "state": {
       "layout": "IPY_MODEL_5afb506cb02a4b788ac7e823add3dd3a",
       "style": "IPY_MODEL_3ac43c65bca248dca0246c41192add21",
       "value": "<h5>Job ID</h5>"
      }
     },
     "ff1016b3c9fe4ae5a35248941d76f928": {
      "model_module": "@jupyter-widgets/controls",
      "model_module_version": "1.5.0",
      "model_name": "HTMLModel",
      "state": {
       "layout": "IPY_MODEL_747616494e934335bd79206d0bb89de3",
       "style": "IPY_MODEL_8dc02fe89fe641549e1335689e5c052e",
       "value": "<h5>Queue</h5>"
      }
     },
     "ffeceef81c194acb8414de1567b5342d": {
      "model_module": "@jupyter-widgets/controls",
      "model_module_version": "1.5.0",
      "model_name": "HTMLModel",
      "state": {
       "layout": "IPY_MODEL_0cda8477d7934c21ab21a7b192fe9f18",
       "style": "IPY_MODEL_79ec37c79ffb41aa8dd32fa25ef9ebf9",
       "value": "<h5>Backend</h5>"
      }
     }
    },
    "version_major": 2,
    "version_minor": 0
   }
  }
 },
 "nbformat": 4,
 "nbformat_minor": 5
}
